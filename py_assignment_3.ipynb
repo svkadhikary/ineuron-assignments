{
 "cells": [
  {
   "cell_type": "markdown",
   "id": "4c588dea",
   "metadata": {},
   "source": [
    "1.1 Write a Python Program to implement your own myreduce() function which works exactly\n",
    "like Python's built-in function reduce()"
   ]
  },
  {
   "cell_type": "code",
   "execution_count": 1,
   "id": "e2d897f4",
   "metadata": {},
   "outputs": [],
   "source": [
    "def myreduce(func, iterable, initializer=None):\n",
    "    iterable = list(iterable)\n",
    "    if initializer is None:\n",
    "        value_1 = iterable[0]\n",
    "        iterable.remove(iterable[0])\n",
    "    else:\n",
    "        value_1 = initializer\n",
    "    for value_2 in iterable:\n",
    "        value_1 = func(value_1, value_2)\n",
    "    return value_1"
   ]
  },
  {
   "cell_type": "code",
   "execution_count": 2,
   "id": "3be7ce4f",
   "metadata": {},
   "outputs": [],
   "source": [
    "def myfunc(val_1, val_2):\n",
    "    return max(val_1, val_2)"
   ]
  },
  {
   "cell_type": "code",
   "execution_count": 3,
   "id": "260054a6",
   "metadata": {
    "scrolled": true
   },
   "outputs": [
    {
     "name": "stdout",
     "output_type": "stream",
     "text": [
      "The largest number in the list using in-built reduce() function:  9954\n",
      "The largest number in the list using myreduce() function:  9954\n"
     ]
    }
   ],
   "source": [
    "import functools\n",
    "import numpy as np\n",
    "iterable = np.random.randint(10000, size=(25))\n",
    "\n",
    "print(\"The largest number in the list using in-built reduce() function: \", functools.reduce(myfunc, iterable))\n",
    "print(\"The largest number in the list using myreduce() function: \", myreduce(myfunc, iterable))"
   ]
  },
  {
   "cell_type": "markdown",
   "id": "977426eb",
   "metadata": {},
   "source": [
    "1.2 Write a Python program to implement your own myfilter() function which works exactly\n",
    "like Python's built-in function filter()"
   ]
  },
  {
   "cell_type": "code",
   "execution_count": 14,
   "id": "acc2c7de",
   "metadata": {},
   "outputs": [],
   "source": [
    "def myfilter(func, seq_):\n",
    "    if func == None:\n",
    "        return seq_\n",
    "    filtered_li = []\n",
    "    it = iter(seq_)\n",
    "    for element in seq_:\n",
    "        if func(element) == True:\n",
    "            filtered_li.append(element)\n",
    "    return filtered_li"
   ]
  },
  {
   "cell_type": "code",
   "execution_count": 15,
   "id": "19236101",
   "metadata": {},
   "outputs": [
    {
     "name": "stdout",
     "output_type": "stream",
     "text": [
      "a\n",
      "o\n",
      "e\n",
      "u\n"
     ]
    }
   ],
   "source": [
    "li = [\"a\", \"h\", \"k\", \"o\", \"b\", \"d\", \"h\", \"l\", \"e\", \"h\", \"u\"]\n",
    "filtered = myfilter(lambda x: x in [\"a\", \"e\", \"i\", \"o\", \"u\"], li)\n",
    "\n",
    "for s in filtered:\n",
    "    print(s)"
   ]
  },
  {
   "cell_type": "markdown",
   "id": "a7e133e9",
   "metadata": {},
   "source": [
    "2. Implement List comprehensions to produce the following lists.\n",
    "Write List comprehensions to produce the following Lists\n",
    "\n",
    "['x', 'xx', 'xxx', 'xxxx', 'y', 'yy', 'yyy', 'yyyy', 'z', 'zz', 'zzz', 'zzzz']\n",
    "\n",
    "['x', 'y', 'z', 'xx', 'yy', 'zz', 'xxx', 'yyy', 'zzz', 'xxxx', 'yyyy', 'zzzz']\n",
    "\n",
    "[[2], [3], [4], [3], [4], [5], [4], [5], [6]] \n",
    "\n",
    "[[2, 3, 4, 5], [3, 4, 5, 6], [4, 5, 6, 7], [5, 6, 7, 8]]\n",
    "\n",
    "[(1, 1), (2, 1), (3, 1), (1, 2), (2, 2), (3, 2), (1, 3), (2, 3), (3, 3)]"
   ]
  },
  {
   "cell_type": "code",
   "execution_count": 6,
   "id": "f8b2c583",
   "metadata": {},
   "outputs": [
    {
     "name": "stdout",
     "output_type": "stream",
     "text": [
      "['x', 'xx', 'xxx', 'xxxx', 'y', 'yy', 'yyy', 'yyyy', 'z', 'zz', 'zzz', 'zzzz']\n"
     ]
    }
   ],
   "source": [
    "#1>\n",
    "li_1 = [i*j for i in ['x', 'y', 'z'] for j in range(1, 5)]\n",
    "print(li_1)"
   ]
  },
  {
   "cell_type": "code",
   "execution_count": 7,
   "id": "0c456238",
   "metadata": {},
   "outputs": [
    {
     "name": "stdout",
     "output_type": "stream",
     "text": [
      "['x', 'y', 'z', 'xx', 'yy', 'zz', 'xxx', 'yyy', 'zzz', 'xxxx', 'yyyy', 'zzzz']\n"
     ]
    }
   ],
   "source": [
    "#2>\n",
    "li_2 = [i*j for i in range(1, 5) for j in ['x', 'y', 'z']]\n",
    "print(li_2)"
   ]
  },
  {
   "cell_type": "code",
   "execution_count": 8,
   "id": "37ce2da1",
   "metadata": {},
   "outputs": [
    {
     "name": "stdout",
     "output_type": "stream",
     "text": [
      "[[2], [3], [4], [3], [4], [5], [4], [5], [6]]\n"
     ]
    }
   ],
   "source": [
    "#3>\n",
    "li_3 = [[x+y] for x in range(2, 5) for y in range(3)]\n",
    "print(li_3)"
   ]
  },
  {
   "cell_type": "code",
   "execution_count": 9,
   "id": "24aac3f0",
   "metadata": {},
   "outputs": [
    {
     "name": "stdout",
     "output_type": "stream",
     "text": [
      "[[2, 3, 4, 5], [3, 4, 5, 6], [4, 5, 6, 7], [5, 6, 7, 8]]\n"
     ]
    }
   ],
   "source": [
    "#4>\n",
    "li_4 = [[x+y for x in range(2, 6)] for y in range(4)]\n",
    "print(li_4)"
   ]
  },
  {
   "cell_type": "code",
   "execution_count": 10,
   "id": "d374a2e1",
   "metadata": {},
   "outputs": [
    {
     "name": "stdout",
     "output_type": "stream",
     "text": [
      "[(1, 1), (2, 1), (3, 1), (1, 2), (2, 2), (3, 2), (1, 3), (2, 3), (3, 3)]\n"
     ]
    }
   ],
   "source": [
    "#5>\n",
    "li_3 = [(y, x) for x in range(1, 4) for y in range(1, 4)]\n",
    "print(li_3)"
   ]
  },
  {
   "cell_type": "code",
   "execution_count": null,
   "id": "317c0caa",
   "metadata": {},
   "outputs": [],
   "source": []
  }
 ],
 "metadata": {
  "kernelspec": {
   "display_name": "Python 3",
   "language": "python",
   "name": "python3"
  },
  "language_info": {
   "codemirror_mode": {
    "name": "ipython",
    "version": 3
   },
   "file_extension": ".py",
   "mimetype": "text/x-python",
   "name": "python",
   "nbconvert_exporter": "python",
   "pygments_lexer": "ipython3",
   "version": "3.8.8"
  }
 },
 "nbformat": 4,
 "nbformat_minor": 5
}
