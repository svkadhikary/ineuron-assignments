{
 "cells": [
  {
   "cell_type": "markdown",
   "id": "60637d42",
   "metadata": {},
   "source": [
    "1.1 Write a Python Program(with class concepts) to find the area of the triangle using the below\n",
    "formula.\n",
    "area = (s*(s-a)*(s-b)*(s-c)) * * 0.5\n",
    "Function to take the length of the sides of triangle from user should be defined in the parent\n",
    "class and function to calculate the area should be defined in subclass.\n"
   ]
  },
  {
   "cell_type": "code",
   "execution_count": 1,
   "id": "1a3ef40d",
   "metadata": {},
   "outputs": [],
   "source": [
    "class triangle:\n",
    "    def sides(self):\n",
    "        self.a = int(input(\"input first side\"))\n",
    "        self.b = int(input(\"input second side\"))\n",
    "        self.c = int(input(\"input third side\"))"
   ]
  },
  {
   "cell_type": "code",
   "execution_count": 2,
   "id": "67b1d6e8",
   "metadata": {},
   "outputs": [],
   "source": [
    "class area_of_triangle(triangle):\n",
    "    def area(self):\n",
    "        s = (self.a+self.b+self.c)/2\n",
    "        area = (s*(s-self.a)*(s-self.b)*(s-self.c))**0.5\n",
    "        return area"
   ]
  },
  {
   "cell_type": "code",
   "execution_count": 9,
   "id": "2229f435",
   "metadata": {},
   "outputs": [],
   "source": [
    "tri = area_of_triangle()"
   ]
  },
  {
   "cell_type": "code",
   "execution_count": 10,
   "id": "dbc817ed",
   "metadata": {},
   "outputs": [
    {
     "name": "stdout",
     "output_type": "stream",
     "text": [
      "input first side4\n",
      "input second side4\n",
      "input third side4\n"
     ]
    }
   ],
   "source": [
    "tri.sides()"
   ]
  },
  {
   "cell_type": "code",
   "execution_count": 11,
   "id": "f61b4418",
   "metadata": {},
   "outputs": [
    {
     "data": {
      "text/plain": [
       "6.928203230275509"
      ]
     },
     "execution_count": 11,
     "metadata": {},
     "output_type": "execute_result"
    }
   ],
   "source": [
    "tri.area()"
   ]
  },
  {
   "cell_type": "markdown",
   "id": "21f7177d",
   "metadata": {},
   "source": [
    "1.2 Write a function filter_long_words() that takes a list of words and an integer n and returns\n",
    "the list of words that are longer than n."
   ]
  },
  {
   "cell_type": "code",
   "execution_count": 22,
   "id": "ca5c03a5",
   "metadata": {},
   "outputs": [],
   "source": [
    "def filter_long_words(words_list, n):\n",
    "    li = [word for word in words_list if type(word) == str and len(word) > n]\n",
    "    return li"
   ]
  },
  {
   "cell_type": "code",
   "execution_count": 26,
   "id": "1a596355",
   "metadata": {},
   "outputs": [
    {
     "data": {
      "text/plain": [
       "['Souvik']"
      ]
     },
     "execution_count": 26,
     "metadata": {},
     "output_type": "execute_result"
    }
   ],
   "source": [
    "filter_long_words(['Cat', 'Bat', 'Sat', 'Cat', 'cat', 'Mat', 'Souvik'], 3)"
   ]
  },
  {
   "cell_type": "markdown",
   "id": "82598100",
   "metadata": {},
   "source": [
    "2.1 Write a Python program using function concept that maps list of words into a list of integers\n",
    "representing the lengths of the corresponding words.\n",
    "Hint: If a list [ ab,cde,erty] is passed on to the python function output should come as [2,3,4]\n",
    "Here 2,3 and 4 are the lengths of the words in the list."
   ]
  },
  {
   "cell_type": "code",
   "execution_count": 1,
   "id": "6f6f72db",
   "metadata": {},
   "outputs": [],
   "source": [
    "def len_mapper(word_list):\n",
    "    li = []\n",
    "    for word in word_list:\n",
    "        li.append(len(word))\n",
    "    return li"
   ]
  },
  {
   "cell_type": "code",
   "execution_count": 4,
   "id": "b99a439b",
   "metadata": {},
   "outputs": [
    {
     "name": "stdout",
     "output_type": "stream",
     "text": [
      "[3, 3, 3, 3, 3, 3, 6]\n"
     ]
    }
   ],
   "source": [
    "print(len_mapper(['Cat', 'Bat', 'Sat', 'Cat', 'cat', 'Mat', 'Souvik']))"
   ]
  },
  {
   "cell_type": "code",
   "execution_count": null,
   "id": "d9ed5250",
   "metadata": {},
   "outputs": [],
   "source": []
  }
 ],
 "metadata": {
  "kernelspec": {
   "display_name": "Python 3",
   "language": "python",
   "name": "python3"
  },
  "language_info": {
   "codemirror_mode": {
    "name": "ipython",
    "version": 3
   },
   "file_extension": ".py",
   "mimetype": "text/x-python",
   "name": "python",
   "nbconvert_exporter": "python",
   "pygments_lexer": "ipython3",
   "version": "3.8.8"
  }
 },
 "nbformat": 4,
 "nbformat_minor": 5
}
