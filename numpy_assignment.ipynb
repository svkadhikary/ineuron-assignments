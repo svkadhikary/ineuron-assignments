{
 "cells": [
  {
   "cell_type": "code",
   "execution_count": 4,
   "id": "ce79f35a",
   "metadata": {},
   "outputs": [],
   "source": [
    "#1>AlexandreTheophile Vandermonde matrix\n",
    "import numpy as np"
   ]
  },
  {
   "cell_type": "code",
   "execution_count": 5,
   "id": "757de1be",
   "metadata": {},
   "outputs": [
    {
     "data": {
      "text/plain": [
       "array([1, 2, 3, 5])"
      ]
     },
     "execution_count": 5,
     "metadata": {},
     "output_type": "execute_result"
    }
   ],
   "source": [
    "m = np.array([1, 2, 3, 5])\n",
    "m"
   ]
  },
  {
   "cell_type": "code",
   "execution_count": 6,
   "id": "7c01dc77",
   "metadata": {},
   "outputs": [],
   "source": [
    "def vandermonde(arr, N=None, increasing=False):\n",
    "    if N == None:\n",
    "        N = len(arr)\n",
    "\n",
    "    out = np.zeros((len(arr), N))\n",
    "    \n",
    "    for i in range(out.shape[0]):\n",
    "        for j in range(N):\n",
    "            if increasing == False:\n",
    "                out[i, j] = arr[i]**(N - j - 1)\n",
    "            else:\n",
    "                out[i, j] = arr[i]**(j)\n",
    "    return out"
   ]
  },
  {
   "cell_type": "code",
   "execution_count": 7,
   "id": "6eb5343e",
   "metadata": {},
   "outputs": [
    {
     "name": "stdout",
     "output_type": "stream",
     "text": [
      "self-made function:\n",
      "[[  1.   1.   1.   1.]\n",
      " [  1.   2.   4.   8.]\n",
      " [  1.   3.   9.  27.]\n",
      " [  1.   5.  25. 125.]]\n",
      "built-in numpy function:\n",
      "[[  1   1   1   1]\n",
      " [  1   2   4   8]\n",
      " [  1   3   9  27]\n",
      " [  1   5  25 125]]\n"
     ]
    }
   ],
   "source": [
    "print(\"self-made function:\\n\" + str(vandermonde(m, increasing=True)) + \"\\nbuilt-in numpy function:\\n\" + str(np.vander(m, increasing=True)))"
   ]
  },
  {
   "cell_type": "code",
   "execution_count": 8,
   "id": "54db1cf8",
   "metadata": {},
   "outputs": [],
   "source": [
    "# 2> Write a function to find moving average in an array over a window:\n",
    "# Test it over [3, 5, 7, 2, 8, 10, 11, 65, 72, 81, 99, 100, 150] and window of 3.\n",
    "\n",
    "def moving_average(arr, window):\n",
    "    n = len(arr)\n",
    "    mov_avg = []\n",
    "    for i in range(n - window + 1):\n",
    "        curr_window_avg = np.mean(arr[i : i + window])\n",
    "        mov_avg.append(curr_window_avg)\n",
    "        print('y' + str(i) + ' = ' + str(curr_window_avg))\n",
    "    return mov_avg\n",
    "        "
   ]
  },
  {
   "cell_type": "code",
   "execution_count": 9,
   "id": "c874e38b",
   "metadata": {},
   "outputs": [
    {
     "name": "stdout",
     "output_type": "stream",
     "text": [
      "y0 = 5.0\n",
      "y1 = 4.666666666666667\n",
      "y2 = 5.666666666666667\n",
      "y3 = 6.666666666666667\n",
      "y4 = 9.666666666666666\n",
      "y5 = 28.666666666666668\n",
      "y6 = 49.333333333333336\n",
      "y7 = 72.66666666666667\n",
      "y8 = 84.0\n",
      "y9 = 93.33333333333333\n",
      "y10 = 116.33333333333333\n"
     ]
    },
    {
     "data": {
      "text/plain": [
       "[5.0,\n",
       " 4.666666666666667,\n",
       " 5.666666666666667,\n",
       " 6.666666666666667,\n",
       " 9.666666666666666,\n",
       " 28.666666666666668,\n",
       " 49.333333333333336,\n",
       " 72.66666666666667,\n",
       " 84.0,\n",
       " 93.33333333333333,\n",
       " 116.33333333333333]"
      ]
     },
     "execution_count": 9,
     "metadata": {},
     "output_type": "execute_result"
    }
   ],
   "source": [
    "arr = [3, 5, 7, 2, 8, 10, 11, 65, 72, 81, 99, 100, 150]\n",
    "window = 3\n",
    "moving_average(arr, window)"
   ]
  },
  {
   "cell_type": "code",
   "execution_count": null,
   "id": "650cf5a0",
   "metadata": {},
   "outputs": [],
   "source": []
  }
 ],
 "metadata": {
  "kernelspec": {
   "display_name": "Python 3",
   "language": "python",
   "name": "python3"
  },
  "language_info": {
   "codemirror_mode": {
    "name": "ipython",
    "version": 3
   },
   "file_extension": ".py",
   "mimetype": "text/x-python",
   "name": "python",
   "nbconvert_exporter": "python",
   "pygments_lexer": "ipython3",
   "version": "3.8.8"
  }
 },
 "nbformat": 4,
 "nbformat_minor": 5
}
